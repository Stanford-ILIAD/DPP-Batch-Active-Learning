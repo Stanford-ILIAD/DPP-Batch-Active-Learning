{
 "cells": [
  {
   "cell_type": "code",
   "execution_count": 1,
   "metadata": {},
   "outputs": [],
   "source": [
    "# Run 'pip install -r requirements.txt' to set up necessary packages.\n",
    "import torch\n",
    "import torch.nn as nn\n",
    "from torch.autograd import Variable\n",
    "from time import time\n",
    "import dpp_sampler as sampler\n",
    "import numpy as np\n",
    "import os\n",
    "import copy\n",
    "import matplotlib\n",
    "import matplotlib.pyplot as plt\n",
    "import pickle"
   ]
  },
  {
   "cell_type": "code",
   "execution_count": 2,
   "metadata": {},
   "outputs": [
    {
     "data": {
      "text/plain": [
       "<torch._C.Generator at 0x7eff0111c7f0>"
      ]
     },
     "execution_count": 2,
     "metadata": {},
     "output_type": "execute_result"
    }
   ],
   "source": [
    "# Sets random seeds for reproducibility.\n",
    "seed = 412\n",
    "np.random.seed(seed)\n",
    "torch.manual_seed(seed)"
   ]
  },
  {
   "cell_type": "code",
   "execution_count": 3,
   "metadata": {},
   "outputs": [],
   "source": [
    "# Sets hyperparameters. \n",
    "input_size = 2\n",
    "num_classes = 2\n",
    "num_epochs = 3000\n",
    "batch_size = 150\n",
    "learning_rate = 0.01\n",
    "max_sample_count = 1000\n",
    "sub_sample_count = 150\n",
    "gamma = 5\n",
    "alpha = 4"
   ]
  },
  {
   "cell_type": "code",
   "execution_count": 4,
   "metadata": {},
   "outputs": [],
   "source": [
    "# Loads synthetic dataset with sine wave boundaries.\n",
    "data = torch.Tensor(np.load('./data/data1_train.npy'))\n",
    "labels = torch.LongTensor(np.load('./data/labels1_train.npy'))\n",
    "test_data = torch.Tensor(np.load('./data/data1_test.npy'))\n",
    "test_labels = torch.LongTensor(np.load('./data/labels1_test.npy'))"
   ]
  },
  {
   "cell_type": "code",
   "execution_count": 5,
   "metadata": {},
   "outputs": [],
   "source": [
    "# Defines methods for saving and loading data.\n",
    "def save_obj(obj, name ):\n",
    "    with open('./'+ name + '.pkl', 'wb') as f:\n",
    "        pickle.dump(obj, f, pickle.HIGHEST_PROTOCOL)\n",
    "\n",
    "def load_obj(name ):\n",
    "    with open('./' + name + '.pkl', 'rb') as f:\n",
    "        return pickle.load(f)"
   ]
  },
  {
   "cell_type": "code",
   "execution_count": 6,
   "metadata": {},
   "outputs": [],
   "source": [
    "# Defines a feed-forward neural network with one hidden layer.\n",
    "class DNN(nn.Module):\n",
    "    def __init__(self, input_size, num_classes):\n",
    "        super(DNN, self).__init__()\n",
    "\n",
    "        self.classifier = nn.Sequential(\n",
    "            nn.Linear(input_size, 4),\n",
    "            nn.Sigmoid(),\n",
    "            nn.Linear(4, num_classes)\n",
    "        )\n",
    "    \n",
    "    def forward(self, x):\n",
    "        out = self.classifier(x)\n",
    "        return nn.functional.softmax(out, dim=1)\n",
    "    \n",
    "def to_var(x):\n",
    "    if torch.cuda.is_available():\n",
    "        x = x.cuda()\n",
    "    return Variable(x)"
   ]
  },
  {
   "cell_type": "code",
   "execution_count": 7,
   "metadata": {},
   "outputs": [],
   "source": [
    "# Trains a neural network on a given training set and evaluates the network on a given test set.\n",
    "def train_and_test(train_imgs, train_lbls, test_imgs, test_lbls, verbose=True, batch_size=batch_size):\n",
    "    model = DNN(input_size, num_classes)\n",
    "    \n",
    "    criterion = nn.CrossEntropyLoss()  \n",
    "    optimizer = torch.optim.Adam(model.parameters(), lr=learning_rate, weight_decay=0)\n",
    "\n",
    "    for epoch in range(num_epochs):\n",
    "        shuffle_ids = torch.randperm(train_lbls.shape[0])\n",
    "        train_imgs = train_imgs[shuffle_ids]\n",
    "        train_lbls = train_lbls[shuffle_ids]\n",
    "        \n",
    "        # Adam optimization with batches\n",
    "        for i in range(train_lbls.shape[0] // batch_size):\n",
    "            images = train_imgs[i*batch_size : (i+1)*batch_size]\n",
    "            labels = train_lbls[i*batch_size : (i+1)*batch_size]\n",
    "\n",
    "            images = Variable(images)\n",
    "            labels = Variable(labels)\n",
    "\n",
    "            # Forward + Backward + Optimize\n",
    "            optimizer.zero_grad()\n",
    "            outputs = model(images)\n",
    "            loss = criterion(outputs, labels)\n",
    "            loss.backward()\n",
    "            optimizer.step()\n",
    "\n",
    "            if verbose and (i+1) % (train_lbls.shape[0] // batch_size) == 0:\n",
    "                print ('Epoch: [%d/%d], Step: [%d/%d], Loss: %.4f' \n",
    "                       % (epoch+1, num_epochs, i+1, len(train_lbls)//batch_size, loss.data[0]))\n",
    "\n",
    "\n",
    "    # Calculate training accuracy\n",
    "    images = train_imgs[:]\n",
    "    labels = train_lbls[:]\n",
    "\n",
    "    images = Variable(images)\n",
    "    outputs = model(images)\n",
    "    _, predicted = torch.max(outputs.data, 1)\n",
    "    total = labels.size(0)\n",
    "    correct = (predicted == labels).sum()\n",
    "\n",
    "\n",
    "\n",
    "    # Calculate test accuracy\n",
    "    images = test_imgs[:]\n",
    "    labels = test_lbls[:]\n",
    "\n",
    "    images = Variable(images)\n",
    "    outputs = model(images)\n",
    "    _, predicted = torch.max(outputs.data, 1)\n",
    "    total = labels.size(0)\n",
    "    correct = (predicted == labels).sum()\n",
    "\n",
    "    return model, float(correct)/total"
   ]
  },
  {
   "cell_type": "code",
   "execution_count": 8,
   "metadata": {},
   "outputs": [],
   "source": [
    "# Defines a method for displaying the training points that have been selected.\n",
    "def draw(points):\n",
    "    plt.scatter([x for x, y in points], [y for x, y in points])\n",
    "    plt.xlim(-3*np.pi, 3*np.pi)\n",
    "    plt.ylim(-3*np.pi, 3*np.pi)\n",
    "    plt.gca().set_aspect('equal')\n",
    "    plt.pause(0.05)"
   ]
  },
  {
   "cell_type": "code",
   "execution_count": 9,
   "metadata": {},
   "outputs": [],
   "source": [
    "# Defines a method for training on the entire training set.\n",
    "def full_model():\n",
    "    print(\"Full\")\n",
    "    model, test_acc = train_and_test(data, labels, test_data, test_labels, verbose=False, batch_size=200)\n",
    "    print('Accuracy of the model on the test images: %d %%' % (100 * correct / total))\n",
    "    return test_acc\n",
    "\n",
    "# Defines a method for Uniform Sampling.\n",
    "def random_subset():\n",
    "    print(\"Uniform\")\n",
    "    sub_ids = torch.randperm(labels.shape[0])\n",
    "    train_ids = sub_ids[:sub_sample_count]\n",
    "    model, test_acc = train_and_test(data[train_ids], labels[train_ids], test_data, test_labels, verbose=False)\n",
    "    print('Accuracy of the model on the test images: %d %%' % (100 * test_acc))\n",
    "    draw(data[train_ids].numpy())\n",
    "    return test_acc\n",
    "\n",
    "# Defines a method for Passive DPP (steps = 1000) and Passive Greedy-DPP (steps = 0), where steps is the \n",
    "# number of Monte Carlo steps.\n",
    "def passive_dpp(steps):\n",
    "    if steps == 0:\n",
    "        print(\"Passive Greedy-DPP\")\n",
    "    else:\n",
    "        print(\"Passive DPP\")\n",
    "        \n",
    "    train_ids = sampler.sample_ids_mc(data.numpy(), np.ones(labels.shape[0]), k=sub_sample_count, alpha=alpha, gamma=0., steps=steps)\n",
    "    train_ids = torch.LongTensor(np.array(train_ids))\n",
    "\n",
    "    model, test_acc = train_and_test(data.index_select(0, train_ids), labels.index_select(0, train_ids), test_data, test_labels, verbose=False)\n",
    "    print('Accuracy of the model on the test images: %d %%' % (100 * test_acc))\n",
    "    draw(data[train_ids].numpy())\n",
    "    return test_acc\n",
    "\n",
    "# Defines a method for Active DPP (steps = 1000) and Active Greedy-DPP (steps = 0), where steps is the \n",
    "# number of Monte Carlo steps.\n",
    "def active_dpp(steps):\n",
    "    if steps == 0:\n",
    "        print(\"Active Greedy-DPP\")\n",
    "    else:\n",
    "        print(\"Active DPP\")\n",
    "    scores = np.ones(labels.shape[0])\n",
    "    train_ids = []\n",
    "    \n",
    "    # Select batches of training points in ten iterations.\n",
    "    batches = [sub_sample_count//10]*10\n",
    "\n",
    "    for i in range(len(batches)):\n",
    "        # Select 2/3 of batch for exploitation and 1/3 of batch for exploration.\n",
    "        k = int(np.ceil(2.0*batches[i]/3))\n",
    "        new_train_ids = sampler.sample_ids_mc(data.numpy(), scores, k=k, alpha=alpha, gamma=gamma, cond_ids=train_ids, steps=steps)\n",
    "        train_ids = np.append(train_ids, new_train_ids).astype(np.int)\n",
    "        new_train_ids = sampler.sample_ids_mc(data.numpy(), scores, k=batches[i]-k, alpha=alpha, gamma=0., cond_ids=train_ids, steps=steps)\n",
    "        train_ids = np.append(train_ids, new_train_ids).astype(np.int)\n",
    "\n",
    "        mask = np.full(labels.shape[0], True, dtype=bool)\n",
    "        mask[train_ids] = False\n",
    "        remaining_ids = np.arange(labels.shape[0])[mask]\n",
    "\n",
    "        # Estimate uncertainty of each training point with an ensemble of ten neural networks.\n",
    "        num_models = 10\n",
    "        out = np.zeros((num_models,data.shape[0],num_classes))\n",
    "        models = []\n",
    "        for j in range(num_models):\n",
    "            train_ids = torch.LongTensor(np.array(train_ids))\n",
    "            remaining_ids = torch.LongTensor(np.array(remaining_ids))\n",
    "            m, test_acc = train_and_test(data.index_select(0, train_ids), labels.index_select(0, train_ids), data.index_select(0, remaining_ids), labels.index_select(0, remaining_ids), verbose=False, batch_size=len(train_ids))\n",
    "            models.append(m)\n",
    "            out[j,:,:] = models[j](to_var(data)).data.numpy()\n",
    "        \n",
    "        # Generate Shannon information entropy for each training point.\n",
    "        out = np.mean(out, axis=0)\n",
    "        scores = np.sum(-out*np.log(out),axis=1)\n",
    "        scores[scores!=scores] = 0 # because 0*log(0)=0\n",
    "        scores = scores + 1e-8 # just to make sure condition is not zero-probability\n",
    "\n",
    "    model, test_acc = train_and_test(data[train_ids], labels[train_ids], test_data, test_labels, verbose=False, batch_size=len(train_ids))\n",
    "    print('Accuracy of the model on the test images: %d %%' % (100 * test_acc))\n",
    "    draw(data[train_ids].numpy())\n",
    "    \n",
    "    return test_acc\n",
    "\n",
    "# Defines a method for epsilon-Greedy. Here, we use epsilon = 1/3, the proportion of the batch selected by exploration.\n",
    "def epsilon_greedy():\n",
    "    print(\"epsilon-Greedy\")\n",
    "    scores = np.ones(labels.shape[0])\n",
    "    train_ids = []\n",
    "    \n",
    "    # Select batches of training points in ten iterations.\n",
    "    batches = [sub_sample_count//10]*10\n",
    "\n",
    "    for i in range(len(batches)):\n",
    "        # Select 2/3 of batch for exploitation and 1/3 of batch for exploration.\n",
    "        k = int(np.ceil(2.0*batches[i]/3))\n",
    "        if i==0:\n",
    "            new_train_ids = np.random.permutation(labels.shape[0])[:k]\n",
    "        else:\n",
    "            new_train_ids = np.argsort(-scores)[:k]\n",
    "        train_ids = np.append(train_ids, new_train_ids).astype(np.int)\n",
    "        new_train_ids = []\n",
    "        while len(new_train_ids) < batches[i] - k:\n",
    "            tmp = np.random.randint(labels.shape[0])\n",
    "            if (tmp not in train_ids) and (tmp not in new_train_ids):\n",
    "                new_train_ids.append(tmp)\n",
    "        train_ids = np.append(train_ids, new_train_ids).astype(np.int)\n",
    "\n",
    "        mask = np.full(labels.shape[0], True, dtype=bool)\n",
    "        mask[train_ids] = False\n",
    "        remaining_ids = np.arange(labels.shape[0])[mask]\n",
    "        \n",
    "        # Estimate uncertainty of each training point with an ensemble of ten neural networks.\n",
    "        num_models = 10\n",
    "        out = np.zeros((num_models,data.shape[0],num_classes))\n",
    "        models = []\n",
    "        for j in range(num_models):\n",
    "            train_ids = torch.LongTensor(np.array(train_ids))\n",
    "            remaining_ids = torch.LongTensor(np.array(remaining_ids))\n",
    "            m, test_acc = train_and_test(data.index_select(0, train_ids), labels.index_select(0, train_ids), data.index_select(0, remaining_ids), labels.index_select(0, remaining_ids), verbose=False, batch_size=len(train_ids))\n",
    "            models.append(m)\n",
    "            out[j,:,:] = models[j](to_var(data)).data.numpy()\n",
    "        \n",
    "        # Generate Shannon information entropy for each training point.\n",
    "        out = np.mean(out, axis=0)\n",
    "        scores = np.sum(-out*np.log(out),axis=1)\n",
    "        scores[scores!=scores] = 0 # because 0*log(0)=0\n",
    "        scores = scores # just to make sure condition is not zero-probability\n",
    "\n",
    "    model, test_acc = train_and_test(data.index_select(0, train_ids), labels.index_select(0, train_ids), test_data, test_labels, verbose=False, batch_size=len(train_ids))\n",
    "    print('Accuracy of the model on the test images: %d %%' % (100 * test_acc))\n",
    "    draw(data[train_ids].numpy())\n",
    "    \n",
    "    return test_acc\n"
   ]
  },
  {
   "cell_type": "code",
   "execution_count": 10,
   "metadata": {},
   "outputs": [
    {
     "name": "stdout",
     "output_type": "stream",
     "text": [
      "Uniform\n",
      "Accuracy of the model on the test images: 71 %\n"
     ]
    },
    {
     "data": {
      "image/png": "[encoded data removed]",
      "text/plain": [
       "<matplotlib.figure.Figure at 0x7efeb83a2f98>"
      ]
     },
     "metadata": {},
     "output_type": "display_data"
    },
    {
     "name": "stdout",
     "output_type": "stream",
     "text": [
      "Passive DPP\n",
      "Accuracy of the model on the test images: 84 %\n"
     ]
    },
    {
     "data": {
      "image/png": "[encoded data removed]",
      "text/plain": [
       "<matplotlib.figure.Figure at 0x7efeb82d4908>"
      ]
     },
     "metadata": {},
     "output_type": "display_data"
    },
    {
     "name": "stdout",
     "output_type": "stream",
     "text": [
      "Passive Greedy-DPP\n",
      "Accuracy of the model on the test images: 85 %\n"
     ]
    },
    {
     "data": {
      "image/png": "[encoded data removed]",
      "text/plain": [
       "<matplotlib.figure.Figure at 0x7efeb82d4978>"
      ]
     },
     "metadata": {},
     "output_type": "display_data"
    },
    {
     "name": "stdout",
     "output_type": "stream",
     "text": [
      "epsilon-Greedy\n",
      "Accuracy of the model on the test images: 69 %\n"
     ]
    },
    {
     "data": {
      "image/png": "[encoded data removed]",
      "text/plain": [
       "<matplotlib.figure.Figure at 0x7efeb6bbcda0>"
      ]
     },
     "metadata": {},
     "output_type": "display_data"
    },
    {
     "name": "stdout",
     "output_type": "stream",
     "text": [
      "Active DPP\n",
      "Accuracy of the model on the test images: 84 %\n"
     ]
    },
    {
     "data": {
      "image/png": "[encoded data removed]",
      "text/plain": [
       "<matplotlib.figure.Figure at 0x7efeb6bcc6a0>"
      ]
     },
     "metadata": {},
     "output_type": "display_data"
    },
    {
     "name": "stdout",
     "output_type": "stream",
     "text": [
      "Active Greedy-DPP\n",
      "Accuracy of the model on the test images: 84 %\n"
     ]
    },
    {
     "data": {
      "image/png": "[encoded data removed]",
      "text/plain": [
       "<matplotlib.figure.Figure at 0x7efeb6b7c128>"
      ]
     },
     "metadata": {},
     "output_type": "display_data"
    }
   ],
   "source": [
    "# Runs the experiment for one trial and displays the training points selected.\n",
    "num_trials = 1\n",
    "\n",
    "test_acc_random = []\n",
    "test_acc_passive = []\n",
    "test_acc_passive_greedy = []\n",
    "test_acc_epsilon = []\n",
    "test_acc_active = []\n",
    "test_acc_active_greedy = []\n",
    "\n",
    "for i in range(num_trials):\n",
    "    test_acc_random.append(random_subset())\n",
    "    test_acc_passive.append(passive_dpp(1000))\n",
    "    test_acc_passive_greedy.append(passive_dpp(0))\n",
    "    test_acc_epsilon.append(epsilon_greedy())\n",
    "    test_acc_active.append(active_dpp(1000))\n",
    "    test_acc_active_greedy.append(active_dpp(0))"
   ]
  }
 ],
 "metadata": {
  "kernelspec": {
   "display_name": "Python 3",
   "language": "python",
   "name": "python3"
  },
  "language_info": {
   "codemirror_mode": {
    "name": "ipython",
    "version": 3
   },
   "file_extension": ".py",
   "mimetype": "text/x-python",
   "name": "python",
   "nbconvert_exporter": "python",
   "pygments_lexer": "ipython3",
   "version": "3.6.4"
  }
 },
 "nbformat": 4,
 "nbformat_minor": 2
}
